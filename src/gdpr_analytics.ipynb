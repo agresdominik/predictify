{
 "cells": [
  {
   "cell_type": "markdown",
   "metadata": {},
   "source": [
    "# Read out data from files"
   ]
  },
  {
   "cell_type": "code",
   "execution_count": 2,
   "metadata": {},
   "outputs": [],
   "source": [
    "import json\n",
    "import os\n",
    "from collections import defaultdict\n",
    "\n",
    "folder_path = os.path.join(os.getcwd(), 'gdpr_data')\n",
    "\n",
    "play_list = []\n",
    "\n",
    "for filename in os.listdir(folder_path):\n",
    "\n",
    "    if filename.endswith('.json'):\n",
    "        file_path = os.path.join(folder_path, filename)\n",
    "         \n",
    "        with open(file_path, 'r') as file:\n",
    "            data = json.load(file)\n",
    "\n",
    "            for entry in data:\n",
    "                try:\n",
    "                    track_id = entry['spotify_track_uri']\n",
    "                    name = entry['master_metadata_track_name']\n",
    "                    artist = entry['master_metadata_album_artist_name']\n",
    "                    album = entry['master_metadata_album_album_name']\n",
    "                    conn_country = entry['conn_country']\n",
    "                    played_on = entry['ts']\n",
    "                    played_track = {'track_id': track_id,\n",
    "                                    'timestamp': played_on,\n",
    "                                    'name': name,\n",
    "                                    'album': album,\n",
    "                                    'artist': artist,\n",
    "                                    'played_from': conn_country\n",
    "                                    }\n",
    "                    play_list.append(played_track)\n",
    "                    \n",
    "                except Exception as e:\n",
    "                    print(f'Missing field: {e}')\n",
    "             \n"
   ]
  }
 ],
 "metadata": {
  "kernelspec": {
   "display_name": ".venv",
   "language": "python",
   "name": "python3"
  },
  "language_info": {
   "codemirror_mode": {
    "name": "ipython",
    "version": 3
   },
   "file_extension": ".py",
   "mimetype": "text/x-python",
   "name": "python",
   "nbconvert_exporter": "python",
   "pygments_lexer": "ipython3",
   "version": "3.13.2"
  }
 },
 "nbformat": 4,
 "nbformat_minor": 2
}
