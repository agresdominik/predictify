{
 "cells": [
  {
   "cell_type": "markdown",
   "metadata": {},
   "source": [
    "# Read out data from files"
   ]
  },
  {
   "cell_type": "code",
   "execution_count": 11,
   "metadata": {},
   "outputs": [],
   "source": [
    "import json\n",
    "import os\n",
    "from collections import defaultdict\n",
    "\n",
    "folder_path = os.path.join(os.getcwd(), '..', 'data', 'gdpr_data')\n",
    "\n",
    "play_list = []\n",
    "\n",
    "for filename in os.listdir(folder_path):\n",
    "\n",
    "    if filename.endswith('.json'):\n",
    "        file_path = os.path.join(folder_path, filename)\n",
    "         \n",
    "        with open(file_path, 'r') as file:\n",
    "            data = json.load(file)\n",
    "\n",
    "            for entry in data:\n",
    "                try:\n",
    "                    track_id = entry['spotify_track_uri']\n",
    "                    name = entry['master_metadata_track_name']\n",
    "                    artist = entry['master_metadata_album_artist_name']\n",
    "                    album = entry['master_metadata_album_album_name']\n",
    "                    conn_country = entry['conn_country']\n",
    "                    played_on = entry['ts']\n",
    "                    played_track = {'track_id': track_id,\n",
    "                                    'timestamp': played_on,\n",
    "                                    'name': name,\n",
    "                                    'album': album,\n",
    "                                    'artist': artist,\n",
    "                                    'played_from': conn_country\n",
    "                                    }\n",
    "                    play_list.append(played_track)\n",
    "                    \n",
    "                except Exception as e:\n",
    "                    print(f'Missing field: {e}')\n",
    "             \n"
   ]
  },
  {
   "cell_type": "code",
   "execution_count": null,
   "metadata": {},
   "outputs": [],
   "source": [
    "\n",
    "# Sort the playlist by timestamp\n",
    "play_list.sort(key=lambda x: x['timestamp'])\n",
    "\n",
    "# Create a dictionary to store the number of times a track has been played\n",
    "track_count = defaultdict(int)\n",
    "\n",
    "for track in play_list:\n",
    "    track_count[track['name'], track['artist']] += 1\n",
    "\n",
    "# Make Track count readable in Data wrangler\n",
    "track_count = [{'track': k, 'count': v} for k, v in track_count.items()]\n"
   ]
  }
 ],
 "metadata": {
  "kernelspec": {
   "display_name": ".venv",
   "language": "python",
   "name": "python3"
  },
  "language_info": {
   "codemirror_mode": {
    "name": "ipython",
    "version": 3
   },
   "file_extension": ".py",
   "mimetype": "text/x-python",
   "name": "python",
   "nbconvert_exporter": "python",
   "pygments_lexer": "ipython3",
   "version": "3.13.2"
  }
 },
 "nbformat": 4,
 "nbformat_minor": 2
}
