{
 "cells": [
  {
   "cell_type": "markdown",
   "metadata": {},
   "source": [
    "# Read out Data from Kaggle Dataset, get preview URL-s and save to file\n",
    "\n",
    "## this should be run only once"
   ]
  },
  {
   "cell_type": "code",
   "execution_count": 4,
   "metadata": {},
   "outputs": [
    {
     "name": "stderr",
     "output_type": "stream",
     "text": [
      "Fetching previews:   6%|▋         | 76/1183 [00:35<33:39,  1.82s/it]"
     ]
    },
    {
     "name": "stdout",
     "output_type": "stream",
     "text": [
      "Failed to fetch Spotify preview URL: 504 Server Error: Gateway Timeout for url: https://open.spotify.com/embed/track/64ffsubBonytxZc5fQJhdO\n"
     ]
    },
    {
     "name": "stderr",
     "output_type": "stream",
     "text": [
      "Fetching previews:   9%|▊         | 102/1183 [00:55<34:18,  1.90s/it]"
     ]
    },
    {
     "name": "stdout",
     "output_type": "stream",
     "text": [
      "Failed to fetch Spotify preview URL: 504 Server Error: Gateway Timeout for url: https://open.spotify.com/embed/track/2Iu5wxKFiEEQDQK1Pldsis\n"
     ]
    },
    {
     "name": "stderr",
     "output_type": "stream",
     "text": [
      "Fetching previews:   9%|▉         | 111/1183 [01:03<33:10,  1.86s/it]"
     ]
    },
    {
     "name": "stdout",
     "output_type": "stream",
     "text": [
      "Failed to fetch Spotify preview URL: 504 Server Error: Gateway Timeout for url: https://open.spotify.com/embed/track/6syvS9gZzjB8b9DdKVhAJH\n"
     ]
    },
    {
     "name": "stderr",
     "output_type": "stream",
     "text": [
      "Fetching previews:  15%|█▌        | 180/1183 [01:54<53:30,  3.20s/it]"
     ]
    },
    {
     "name": "stdout",
     "output_type": "stream",
     "text": [
      "Failed to fetch Spotify preview URL: 504 Server Error: Gateway Timeout for url: https://open.spotify.com/embed/track/2qrVR11O44iJ0DVTNCExjA\n"
     ]
    },
    {
     "name": "stderr",
     "output_type": "stream",
     "text": [
      "Fetching previews:  19%|█▉        | 225/1183 [02:25<29:37,  1.86s/it]"
     ]
    },
    {
     "name": "stdout",
     "output_type": "stream",
     "text": [
      "Failed to fetch Spotify preview URL: 504 Server Error: Gateway Timeout for url: https://open.spotify.com/embed/track/3njPW0vttbjt5j1Elt6sJI\n"
     ]
    },
    {
     "name": "stderr",
     "output_type": "stream",
     "text": [
      "Fetching previews:  32%|███▏      | 381/1183 [03:26<23:39,  1.77s/it]"
     ]
    },
    {
     "name": "stdout",
     "output_type": "stream",
     "text": [
      "Failed to fetch Spotify preview URL: 504 Server Error: Gateway Timeout for url: https://open.spotify.com/embed/track/3T7zNYia3nk9d8uXhO9Xud\n"
     ]
    },
    {
     "name": "stderr",
     "output_type": "stream",
     "text": [
      "Fetching previews:  53%|█████▎    | 630/1183 [05:23<16:28,  1.79s/it]"
     ]
    },
    {
     "name": "stdout",
     "output_type": "stream",
     "text": [
      "Failed to fetch Spotify preview URL: 504 Server Error: Gateway Timeout for url: https://open.spotify.com/embed/track/41Sfs0E8hr8w2BvzUtof4O\n"
     ]
    },
    {
     "name": "stderr",
     "output_type": "stream",
     "text": [
      "Fetching previews:  54%|█████▎    | 633/1183 [05:29<20:57,  2.29s/it]"
     ]
    },
    {
     "name": "stdout",
     "output_type": "stream",
     "text": [
      "Failed to fetch Spotify preview URL: 504 Server Error: Gateway Timeout for url: https://open.spotify.com/embed/track/3H9aA6IO5gfHW72m8YU8Iv\n"
     ]
    },
    {
     "name": "stderr",
     "output_type": "stream",
     "text": [
      "Fetching previews:  57%|█████▋    | 675/1183 [05:56<15:49,  1.87s/it]"
     ]
    },
    {
     "name": "stdout",
     "output_type": "stream",
     "text": [
      "Failed to fetch Spotify preview URL: 504 Server Error: Gateway Timeout for url: https://open.spotify.com/embed/track/0lvHnw9Exl8jLV3zuRsksJ\n"
     ]
    },
    {
     "name": "stderr",
     "output_type": "stream",
     "text": [
      "Fetching previews:  67%|██████▋   | 792/1183 [07:06<12:08,  1.86s/it]"
     ]
    },
    {
     "name": "stdout",
     "output_type": "stream",
     "text": [
      "Failed to fetch Spotify preview URL: 504 Server Error: Gateway Timeout for url: https://open.spotify.com/embed/track/17sSDGIRIkB0jOKb2cBURf\n"
     ]
    },
    {
     "name": "stderr",
     "output_type": "stream",
     "text": [
      "Fetching previews:  77%|███████▋  | 911/1183 [08:03<09:15,  2.04s/it]"
     ]
    },
    {
     "name": "stdout",
     "output_type": "stream",
     "text": [
      "Failed to fetch Spotify preview URL: 504 Server Error: Gateway Timeout for url: https://open.spotify.com/embed/track/5RcZ5jbBgKDdM6BuoSeh8P\n"
     ]
    },
    {
     "name": "stderr",
     "output_type": "stream",
     "text": [
      "Fetching previews:  77%|███████▋  | 912/1183 [08:08<13:32,  3.00s/it]"
     ]
    },
    {
     "name": "stdout",
     "output_type": "stream",
     "text": [
      "Failed to fetch Spotify preview URL: 504 Server Error: Gateway Timeout for url: https://open.spotify.com/embed/track/0YQrHOpi219lZA8SDly4iG\n"
     ]
    },
    {
     "name": "stderr",
     "output_type": "stream",
     "text": [
      "Fetching previews:  90%|█████████ | 1069/1183 [09:31<03:31,  1.85s/it]"
     ]
    },
    {
     "name": "stdout",
     "output_type": "stream",
     "text": [
      "Failed to fetch Spotify preview URL: 504 Server Error: Gateway Timeout for url: https://open.spotify.com/embed/track/2iql0ydkQX1hZ375EyRFFF\n"
     ]
    },
    {
     "name": "stderr",
     "output_type": "stream",
     "text": [
      "Fetching previews: 100%|██████████| 1183/1183 [10:19<00:00,  1.91it/s]\n"
     ]
    }
   ],
   "source": [
    "import pandas as pd\n",
    "import os\n",
    "from spotify_preview import get_spotify_preview_url\n",
    "from tqdm import tqdm\n",
    "\n",
    "# --- 0) Load & dedupe your balanced track/genre file ---\n",
    "df = pd.read_csv('track_genres_balanced.csv')\n",
    "df = df.drop_duplicates(subset=['track_id'])\n",
    "df = df.dropna(subset=['genre'])\n",
    "\n",
    "# --- 1) Prep output CSV (header only once) ---\n",
    "#output_csv = 'track_genre_balanced_url.csv'\n",
    "#pd.DataFrame(columns=['track_id','genre','preview']).to_csv(output_csv, index=False)\n",
    "#output_csv = pd.read_csv('track_genre_balanced_url.csv')\n",
    "\n",
    "output_csv = 'track_genre_balanced_url.csv'\n",
    "\n",
    "if os.path.exists(output_csv):\n",
    "    # load already-fetched track_ids and drop them from df\n",
    "    done = pd.read_csv(output_csv, usecols=['track_id'])\n",
    "    processed_ids = set(done['track_id'].astype(str))\n",
    "    df = df[~df['track_id'].astype(str).isin(processed_ids)]\n",
    "    write_header = False\n",
    "else:\n",
    "    # new file → write header\n",
    "    pd.DataFrame(columns=['track_id','genre','preview']) \\\n",
    "      .to_csv(output_csv, index=False)\n",
    "    write_header = False  # header is already there\n",
    "\n",
    "# --- 2) Parameters ---\n",
    "BATCH_SIZE = 100   # how many tracks to process per “mini‐batch”\n",
    "PAUSE      = 0.1   # if you want a small sleep between API calls\n",
    "\n",
    "# --- 3) Loop with a single progress bar over all tracks ---\n",
    "with tqdm(total=len(df), desc=\"Fetching previews\") as pbar:\n",
    "    for start in range(0, len(df), BATCH_SIZE):\n",
    "        chunk = df.iloc[start:start + BATCH_SIZE]\n",
    "        rows = []\n",
    "\n",
    "        # 4) Per‐track lookup\n",
    "        for _, row in chunk.iterrows():\n",
    "            track_id = row['track_id']\n",
    "            genre    = row['genre']\n",
    "\n",
    "            preview = get_spotify_preview_url(track_id)\n",
    "            if preview:\n",
    "                rows.append({\n",
    "                    'track_id': track_id,\n",
    "                    'genre':     genre,\n",
    "                    'preview':   preview\n",
    "                })\n",
    "            # else: silently skip or print an error if you prefer\n",
    "\n",
    "            pbar.update(1)\n",
    "            if PAUSE:\n",
    "                import time; time.sleep(PAUSE)\n",
    "\n",
    "        # 5) Append this batch’s hits to disk\n",
    "        if rows:\n",
    "            pd.DataFrame(rows).to_csv(\n",
    "                output_csv,\n",
    "                mode='a',\n",
    "                header=False,\n",
    "                index=False\n",
    "            )\n"
   ]
  }
 ],
 "metadata": {
  "kernelspec": {
   "display_name": ".venv",
   "language": "python",
   "name": "python3"
  },
  "language_info": {
   "codemirror_mode": {
    "name": "ipython",
    "version": 3
   },
   "file_extension": ".py",
   "mimetype": "text/x-python",
   "name": "python",
   "nbconvert_exporter": "python",
   "pygments_lexer": "ipython3",
   "version": "3.11.7"
  }
 },
 "nbformat": 4,
 "nbformat_minor": 2
}
